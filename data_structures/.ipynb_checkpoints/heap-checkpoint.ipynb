{
 "cells": [
  {
   "cell_type": "code",
   "execution_count": 1,
   "metadata": {
    "ExecuteTime": {
     "end_time": "2019-09-01T07:42:33.728717Z",
     "start_time": "2019-09-01T07:42:33.712851Z"
    }
   },
   "outputs": [
    {
     "name": "stdout",
     "output_type": "stream",
     "text": [
      "[0, 2, 1, 5, 3, 4, 10, 20]\n",
      "0\n",
      "1\n",
      "2\n",
      "3\n",
      "4\n",
      "5\n",
      "10\n",
      "20\n"
     ]
    }
   ],
   "source": [
    "class MinHeap:\n",
    "    \n",
    "    def __init__(self):\n",
    "        self.storage = []\n",
    "        self.size = 0\n",
    "\n",
    "    def insert(self, val):\n",
    "        # append value to end\n",
    "        self.storage.append(val)\n",
    "        \n",
    "        # increment size\n",
    "        self.size = self.size + 1\n",
    "        \n",
    "        # bubble up\n",
    "        self.bubbleUp()\n",
    "        \n",
    "        \n",
    "    def bubbleUp(self):\n",
    "        \n",
    "        currentIndex = self.size - 1\n",
    "        \n",
    "        while (currentIndex != 0 and self.storage[currentIndex] < self.storage[parent(currentIndex)]):\n",
    "            \n",
    "            temp = self.storage[parent(currentIndex)]\n",
    "            self.storage[parent(currentIndex)] = self.storage[currentIndex]\n",
    "            self.storage[currentIndex] = temp\n",
    "    \n",
    "            currentIndex = parent(currentIndex) \n",
    "        \n",
    "        \n",
    "    def pop(self):\n",
    "        assert self.size > 0\n",
    "        \n",
    "        # remove value at 0\n",
    "        temp = self.storage[0]\n",
    "        \n",
    "        # move value at end to 0 index\n",
    "        self.storage[0] = self.storage[self.size - 1]\n",
    "        \n",
    "        # decrement size\n",
    "        self.size = self.size - 1\n",
    "        \n",
    "        # bubble down\n",
    "        self.percolateDown()\n",
    "        \n",
    "        return temp\n",
    "    \n",
    "    def percolateDown(self):\n",
    "        \n",
    "        currentIndex = 0\n",
    "        \n",
    "        while (currentIndex < self.size):\n",
    "            \n",
    "            if (children(currentIndex)[1] < self.size):\n",
    "            \n",
    "                chosen = int(self.storage[children(currentIndex)[0]] > self.storage[children(currentIndex)[1]])\n",
    "            \n",
    "            elif(children(currentIndex)[0] < self.size):\n",
    "                chosen = 0\n",
    "            \n",
    "            else:\n",
    "                # no more children\n",
    "                break\n",
    "            \n",
    "               \n",
    "            if (children(currentIndex)[chosen] < self.size \n",
    "                and self.storage[currentIndex] > self.storage[children(currentIndex)[chosen]]):\n",
    "                \n",
    "                temp = self.storage[children(currentIndex)[chosen]]\n",
    "                self.storage[children(currentIndex)[chosen]] = self.storage[currentIndex]\n",
    "                self.storage[currentIndex] = temp\n",
    "\n",
    "                currentIndex = children(currentIndex)[chosen]\n",
    "            \n",
    "            else:\n",
    "                break\n",
    "        \n",
    "        \n",
    "\n",
    "def parent(val):\n",
    "    return int((val-1)/2)\n",
    "\n",
    "def children(val):\n",
    "    return [val * 2 + 1, val * 2 + 2]\n",
    "    \n",
    "    \n",
    "\n",
    "test = MinHeap()\n",
    "\n",
    "\n",
    "test.insert(5)\n",
    "test.insert(4)\n",
    "test.insert(3)\n",
    "test.insert(2)\n",
    "test.insert(1)\n",
    "test.insert(0)\n",
    "test.insert(10)\n",
    "test.insert(20)\n",
    "print(test.storage)\n",
    "\n",
    "for i in range(test.size):\n",
    "    print(test.pop())"
   ]
  },
  {
   "cell_type": "code",
   "execution_count": null,
   "metadata": {},
   "outputs": [],
   "source": []
  }
 ],
 "metadata": {
  "kernelspec": {
   "display_name": "Python 3",
   "language": "python",
   "name": "python3"
  },
  "language_info": {
   "codemirror_mode": {
    "name": "ipython",
    "version": 3
   },
   "file_extension": ".py",
   "mimetype": "text/x-python",
   "name": "python",
   "nbconvert_exporter": "python",
   "pygments_lexer": "ipython3",
   "version": "3.6.8"
  },
  "latex_envs": {
   "LaTeX_envs_menu_present": true,
   "autoclose": false,
   "autocomplete": true,
   "bibliofile": "biblio.bib",
   "cite_by": "apalike",
   "current_citInitial": 1,
   "eqLabelWithNumbers": true,
   "eqNumInitial": 1,
   "hotkeys": {
    "equation": "Ctrl-E",
    "itemize": "Ctrl-I"
   },
   "labels_anchors": false,
   "latex_user_defs": false,
   "report_style_numbering": false,
   "user_envs_cfg": false
  },
  "varInspector": {
   "cols": {
    "lenName": 16,
    "lenType": 16,
    "lenVar": 40
   },
   "kernels_config": {
    "python": {
     "delete_cmd_postfix": "",
     "delete_cmd_prefix": "del ",
     "library": "var_list.py",
     "varRefreshCmd": "print(var_dic_list())"
    },
    "r": {
     "delete_cmd_postfix": ") ",
     "delete_cmd_prefix": "rm(",
     "library": "var_list.r",
     "varRefreshCmd": "cat(var_dic_list()) "
    }
   },
   "types_to_exclude": [
    "module",
    "function",
    "builtin_function_or_method",
    "instance",
    "_Feature"
   ],
   "window_display": false
  }
 },
 "nbformat": 4,
 "nbformat_minor": 2
}
