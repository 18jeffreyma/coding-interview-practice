{
 "cells": [
  {
   "cell_type": "code",
   "execution_count": 10,
   "metadata": {
    "ExecuteTime": {
     "end_time": "2019-08-23T00:49:14.136245Z",
     "start_time": "2019-08-23T00:49:14.128521Z"
    }
   },
   "outputs": [
    {
     "name": "stdout",
     "output_type": "stream",
     "text": [
      "[1, 9, 2, 8, 3, 7, 4, 6, 5]\n",
      "right is top of stack\n",
      "[9, 8, 7, 6, 5, 4, 3, 2, 1]\n"
     ]
    }
   ],
   "source": [
    "# 3.5: Sort Stack (sort a stack with one temp stack)\n",
    "\n",
    "\n",
    "def sort_stack(stack):\n",
    "    \n",
    "    temp_stack = []\n",
    "    \n",
    "    while (len(stack) != 0):\n",
    "        \n",
    "        if (len(temp_stack) == 0 or stack[-1] >= temp_stack[-1]):\n",
    "            temp_stack.append(stack.pop())\n",
    "        \n",
    "        else:\n",
    "            \n",
    "            temp = stack.pop()\n",
    "            \n",
    "            # counter optimization (instead of waiting for the big loop to repeat)\n",
    "            # we can just keep track of the number of values we sent over to the\n",
    "            # original stack\n",
    "            counter = 0\n",
    "            \n",
    "            while(len(temp_stack) > 0 and temp_stack[-1] > temp):\n",
    "                \n",
    "                stack.append(temp_stack.pop())\n",
    "                counter = counter + 1\n",
    "            \n",
    "            temp_stack.append(temp)\n",
    "            \n",
    "            # bring values back to temp stack\n",
    "            for i in range(counter):\n",
    "                temp_stack.append(stack.pop())\n",
    "    \n",
    "    while (len(temp_stack) != 0):\n",
    "        \n",
    "        stack.append(temp_stack.pop())\n",
    "    \n",
    "    return stack\n",
    "\n",
    "initial_stack = [1, 9, 2, 8, 3, 7, 4, 6, 5]\n",
    "print(initial_stack)\n",
    "print(\"right is top of stack\")\n",
    "print(sort_stack(initial_stack))\n",
    "    "
   ]
  },
  {
   "cell_type": "code",
   "execution_count": null,
   "metadata": {},
   "outputs": [],
   "source": []
  }
 ],
 "metadata": {
  "kernelspec": {
   "display_name": "Python 3",
   "language": "python",
   "name": "python3"
  },
  "language_info": {
   "codemirror_mode": {
    "name": "ipython",
    "version": 3
   },
   "file_extension": ".py",
   "mimetype": "text/x-python",
   "name": "python",
   "nbconvert_exporter": "python",
   "pygments_lexer": "ipython3",
   "version": "3.6.8"
  },
  "latex_envs": {
   "LaTeX_envs_menu_present": true,
   "autoclose": false,
   "autocomplete": true,
   "bibliofile": "biblio.bib",
   "cite_by": "apalike",
   "current_citInitial": 1,
   "eqLabelWithNumbers": true,
   "eqNumInitial": 1,
   "hotkeys": {
    "equation": "Ctrl-E",
    "itemize": "Ctrl-I"
   },
   "labels_anchors": false,
   "latex_user_defs": false,
   "report_style_numbering": false,
   "user_envs_cfg": false
  },
  "varInspector": {
   "cols": {
    "lenName": 16,
    "lenType": 16,
    "lenVar": 40
   },
   "kernels_config": {
    "python": {
     "delete_cmd_postfix": "",
     "delete_cmd_prefix": "del ",
     "library": "var_list.py",
     "varRefreshCmd": "print(var_dic_list())"
    },
    "r": {
     "delete_cmd_postfix": ") ",
     "delete_cmd_prefix": "rm(",
     "library": "var_list.r",
     "varRefreshCmd": "cat(var_dic_list()) "
    }
   },
   "types_to_exclude": [
    "module",
    "function",
    "builtin_function_or_method",
    "instance",
    "_Feature"
   ],
   "window_display": false
  }
 },
 "nbformat": 4,
 "nbformat_minor": 2
}
