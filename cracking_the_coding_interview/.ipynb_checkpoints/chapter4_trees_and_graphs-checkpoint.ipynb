{
 "cells": [
  {
   "cell_type": "markdown",
   "metadata": {},
   "source": [
    "# Exercises"
   ]
  },
  {
   "cell_type": "code",
   "execution_count": 1,
   "metadata": {
    "ExecuteTime": {
     "end_time": "2019-09-04T05:37:57.621370Z",
     "start_time": "2019-09-04T05:37:57.619448Z"
    }
   },
   "outputs": [],
   "source": [
    "# 4.1: Route Between Nodes\n",
    "\n",
    "# Do a BFS but also keep track of visited nodes so we dont get stuck loop\n"
   ]
  },
  {
   "cell_type": "code",
   "execution_count": 8,
   "metadata": {
    "ExecuteTime": {
     "end_time": "2019-09-04T05:38:04.403284Z",
     "start_time": "2019-09-04T05:38:04.395042Z"
    }
   },
   "outputs": [
    {
     "name": "stdout",
     "output_type": "stream",
     "text": [
      "1 2 3 4 5 6 "
     ]
    }
   ],
   "source": [
    "# 4.2: Minimal Tree\n",
    "\n",
    "input_arr = [1,2,3,4,5,6]\n",
    "\n",
    "class node:\n",
    "    def __init__(self, dataval):\n",
    "        self.val = dataval\n",
    "        self.left = None\n",
    "        self.right = None\n",
    "        \n",
    "def inOrder(node):\n",
    "    if (node):\n",
    "        inOrder(node.left)\n",
    "        print(node.val, end=\" \")\n",
    "        inOrder(node.right)\n",
    "        \n",
    "def minimal_tree(input_array):\n",
    "    return minimal_tree_helper(input_array)\n",
    "    \n",
    "def minimal_tree_helper(input_array):\n",
    "    \n",
    "    if (len(input_array) == 0):\n",
    "        \n",
    "        return None\n",
    "    \n",
    "    elif (len(input_array) == 1):\n",
    "    \n",
    "        return node(input_array[0])\n",
    "    \n",
    "    else:\n",
    "        mid = int(len(input_array) / 2)\n",
    "        \n",
    "        \n",
    "        mid_node = node(input_array[mid])\n",
    "        \n",
    "        mid_node.left = minimal_tree_helper(input_array[:mid])\n",
    "        \n",
    "        mid_node.right = minimal_tree_helper(input_array[mid+1:])\n",
    "        \n",
    "        return mid_node\n",
    "        \n",
    "bst = minimal_tree(input_arr)\n",
    "\n",
    "inOrder(bst)\n",
    "    "
   ]
  },
  {
   "cell_type": "code",
   "execution_count": 3,
   "metadata": {
    "ExecuteTime": {
     "end_time": "2019-09-04T05:37:57.634127Z",
     "start_time": "2019-09-04T05:37:57.632193Z"
    }
   },
   "outputs": [],
   "source": [
    "# 4.3 list of depths, each level of graph is a depth\n",
    "\n",
    "# solution: BFS keeping trade of node and depth level (int)\n",
    "# Have list where index corresponds to depth and add to correct position\n",
    "# Queue should be a tuple of both the object and its depth, every time we \n",
    "# go down we increment depth and follow neighbors"
   ]
  },
  {
   "cell_type": "code",
   "execution_count": 32,
   "metadata": {
    "ExecuteTime": {
     "end_time": "2019-09-10T04:52:22.392575Z",
     "start_time": "2019-09-10T04:52:22.386038Z"
    }
   },
   "outputs": [
    {
     "name": "stdout",
     "output_type": "stream",
     "text": [
      "-1\n"
     ]
    }
   ],
   "source": [
    "# 4.4 check if binary tree is balanced\n",
    "import math\n",
    "\n",
    "class node:\n",
    "    def __init__(self, dataval):\n",
    "        self.val = dataval\n",
    "        self.left = None\n",
    "        self.right = None\n",
    "        \n",
    "# idea 1, calculate depths of left and right trees\n",
    "\n",
    "\n",
    "def depth_helper(root):\n",
    "    if (root == None):\n",
    "        return 0\n",
    "    \n",
    "    left_height = depth_helper(root.left)\n",
    "    if left_height == -1:\n",
    "        return -1\n",
    "    \n",
    "    right_height = depth_helper(root.right)\n",
    "    if right_height == -1:\n",
    "        return -1\n",
    "    \n",
    "    if (math.fabs(left_height - right_height) > 1):\n",
    "        return -1\n",
    "    \n",
    "    else:\n",
    "        return 1 + max(depth_helper(root.left), depth_helper(root.right))\n",
    "\n",
    "unbalanced = node(0)\n",
    "unbalanced.left = node(1)\n",
    "unbalanced.left.left = node(2)\n",
    "print(depth_helper(unbalanced))\n",
    "\n",
    "\n"
   ]
  },
  {
   "cell_type": "code",
   "execution_count": 10,
   "metadata": {
    "ExecuteTime": {
     "end_time": "2019-09-04T05:38:09.406757Z",
     "start_time": "2019-09-04T05:38:09.399661Z"
    }
   },
   "outputs": [
    {
     "name": "stdout",
     "output_type": "stream",
     "text": [
      "False\n",
      "True\n"
     ]
    }
   ],
   "source": [
    "# 4.5: Validate BST:\n",
    "\n",
    "# recursively check that left < mid and mid < right\n",
    "\n",
    "class node:\n",
    "    def __init__(self, dataval):\n",
    "        self.val = dataval\n",
    "        self.left = None\n",
    "        self.right = None\n",
    "        \n",
    "# idea 1, recursive, check if subtrees are sorted\n",
    "\n",
    "def search_validator(root):\n",
    "    if (root == None):\n",
    "        return True\n",
    "    \n",
    "    left_validation = search_validator(root.left)\n",
    "    if (not left_validation):\n",
    "        return False\n",
    "    \n",
    "    right_validation = search_validator(root.right)\n",
    "    if (not right_validation):\n",
    "        return False\n",
    "    \n",
    "    else:\n",
    "        isSearch = True\n",
    "        \n",
    "        if (root.left != None):\n",
    "            isSearch = isSearch and (root.left.val < root.val)\n",
    "            \n",
    "        if (root.right != None):\n",
    "            isSearch = isSearch and (root.val < root.right.val)\n",
    "            \n",
    "        return isSearch\n",
    "\n",
    "# idea 2, inorder traversal, then check array if its sorted\n",
    "    \n",
    "# simple implementation with accumulator parameter? not included\n",
    "\n",
    "    \n",
    "unbalanced = node(0)\n",
    "unbalanced.left = node(1)\n",
    "unbalanced.left.left = node(2)\n",
    "print(search_validator(unbalanced))\n",
    "\n",
    "bst = minimal_tree(input_arr)\n",
    "print(search_validator(bst))\n",
    "\n",
    "# idea 2, inorder traversal"
   ]
  },
  {
   "cell_type": "code",
   "execution_count": 6,
   "metadata": {
    "ExecuteTime": {
     "end_time": "2019-09-04T05:37:57.653165Z",
     "start_time": "2019-09-04T05:37:57.651175Z"
    }
   },
   "outputs": [],
   "source": [
    "# 4.6: Successor\n",
    "\n",
    "# find algorithm to find the \"next\" node (in-order successor), assume each node has a link to its parent\n",
    "\n",
    "# 1) check if node has a node.right\n",
    "#     a) if so, go to the left most child of that node.right and return that node\n",
    "# 2) if no right child, check if parent is greater than or smaller than\n",
    "#     b) if parent is greater than, the current node is a left child, so return that parent node\n",
    "# 3) otherwise, this is the largest node"
   ]
  },
  {
   "cell_type": "code",
   "execution_count": 11,
   "metadata": {
    "ExecuteTime": {
     "end_time": "2019-09-04T05:38:11.145110Z",
     "start_time": "2019-09-04T05:38:11.137323Z"
    }
   },
   "outputs": [
    {
     "name": "stdout",
     "output_type": "stream",
     "text": [
      "{'a': False, 'b': False, 'c': False, 'd': False, 'e': False, 'f': False}\n",
      "{'a': True, 'b': False, 'c': False, 'd': False, 'e': False, 'f': True}\n",
      "{'a': True, 'b': True, 'c': False, 'd': False, 'e': False, 'f': True}\n",
      "{'a': True, 'b': True, 'c': True, 'd': True, 'e': False, 'f': True}\n",
      "{'a': True, 'b': True, 'c': True, 'd': True, 'e': False, 'f': True}\n",
      "{'a': True, 'b': True, 'c': True, 'd': True, 'e': True, 'f': True}\n",
      "['f', 'a', 'b', 'd', 'c', 'e']\n"
     ]
    }
   ],
   "source": [
    "# 4.7: Build order (dependencies)\n",
    "\n",
    "projects = [\"a\", 'b', 'c', 'd', 'e', 'f']\n",
    "dependencies = [['d', 'a'], ['b', 'f'], ['d', 'b'], ['a', 'f'], ['c', 'd']]\n",
    "\n",
    "# topological sort\n",
    "\n",
    "# in layman's terms, we explore each vertex (or project in our list)\n",
    "# 1) when we explore a node, we first mark it as visited\n",
    "# 2) we then do a DFS, completely exploring the nodes children, only adding the node to the stack once it's\n",
    "#    children have been completely explored (logic behind this is dependencies should be explored and added\n",
    "#    to the list before their \"parents\")\n",
    "# \n",
    "# marking the values as visited, allows us to add different paths of dependencies at a time and ensures\n",
    "# that any dependencies subsequently added dont affect the dependencies already added\n",
    "#\n",
    "# basically a DFS when we add the deepest childs first to a tracker\n",
    "\n",
    "\n",
    "def build_order(my_projects, my_dependencies):\n",
    "    \n",
    "    visited = dict.fromkeys(projects, False)\n",
    "    tracker = []\n",
    "    \n",
    "    for project in projects:\n",
    "        print(visited)\n",
    "        \n",
    "        if (visited[project] == False):\n",
    "            build_order_helper(project, my_dependencies, tracker, visited)\n",
    "                \n",
    "    return tracker\n",
    "            \n",
    "def build_order_helper(project, my_dependencies, tracker, visited):\n",
    "    visited[project] = True\n",
    "    \n",
    "    for neighbor in [dependency[1] for dependency in my_dependencies if dependency[0] == project]:\n",
    "        if (visited[neighbor] == False):\n",
    "            build_order_helper(neighbor, my_dependencies, tracker, visited)\n",
    "    \n",
    "    tracker.append(project)\n",
    "    \n",
    "    \n",
    "print(build_order(projects, dependencies))'\n",
    "\n",
    "\n",
    "# TODO: mark any node that is currently being DFS'ed on as partial, so that if we encounter again, we have an error"
   ]
  },
  {
   "cell_type": "code",
   "execution_count": 23,
   "metadata": {
    "ExecuteTime": {
     "end_time": "2019-09-04T05:47:11.042692Z",
     "start_time": "2019-09-04T05:47:11.033495Z"
    }
   },
   "outputs": [
    {
     "name": "stdout",
     "output_type": "stream",
     "text": [
      "50\n"
     ]
    }
   ],
   "source": [
    "# 4.8: First Common Ancestor\n",
    "\n",
    "# Note: Avoid storing additional nodes in a data structure\n",
    "\n",
    "# idea 1: assume link to the parent\n",
    "\n",
    "# first idea: brute force\n",
    "# for every parent of the left node, compare with every parent of the right node \n",
    "# for a tree of n nodes\n",
    "# RUNTIME: (log(n)) ^ 2\n",
    "# notes: seems too exhaustive\n",
    "\n",
    "# second idea: visited flags???\n",
    "# just like linked-list interscection, first iterate up from left_node, marking nodes as visited\n",
    "# then iterate up from right node until we reach a node that is visited\n",
    "# return that node as the first common ancestor\n",
    "#\n",
    "# notes: kinda cheating on runtime\n",
    "\n",
    "# third idea: \n",
    "# 1) find diference in depth from root (2 x log(n))\n",
    "# 2) adjust pointers (constant time)\n",
    "# 3) iterate up by parents until we get the left and right pointers equal (log(n))\n",
    "#\n",
    "# RUNTIME: log(n)\n",
    "      \n",
    "# idea 2: assume there isn't a link to the parent\n",
    "# same side recursive method? keep going until we get to a node where nodes are not on the same side\n",
    "\n",
    "class node:\n",
    "    def __init__(self, dataval):\n",
    "        self.val = dataval\n",
    "        self.left = None\n",
    "        self.right = None\n",
    "\n",
    "def first_common_ancestor(root, n1, n2):\n",
    "    \n",
    "    if (root == None or (root == n1 or root == n2)):\n",
    "        return root\n",
    "    \n",
    "    is_n1_left = node_in_tree(root.left, n1)\n",
    "    is_n2_left = node_in_tree(root.left, n2)\n",
    "    \n",
    "    if (is_n1_left != is_n2_left):\n",
    "        return root\n",
    "    \n",
    "    elif (is_n1_left):\n",
    "        return first_common_ancestor(root.left, n1, n2)\n",
    "    \n",
    "    else:\n",
    "        return first_common_ancestor(root.right, n1, n2) \n",
    "    \n",
    "def node_in_tree(root, n):\n",
    "    if (root == None):\n",
    "        return False\n",
    "    elif (root == n):\n",
    "        return True\n",
    "    else:\n",
    "        return node_in_tree(root.left, n) or node_in_tree(root.right, n)\n",
    "        \n",
    "\n",
    "my_root = node(50)\n",
    "my_root.left = node(20)\n",
    "my_root.right = node(10)\n",
    "\n",
    "print(first_common_ancestor(my_root, my_root.left, my_root.right).val)"
   ]
  },
  {
   "cell_type": "code",
   "execution_count": 35,
   "metadata": {
    "ExecuteTime": {
     "end_time": "2019-09-06T20:23:05.001071Z",
     "start_time": "2019-09-06T20:23:04.992255Z"
    },
    "code_folding": []
   },
   "outputs": [
    {
     "name": "stdout",
     "output_type": "stream",
     "text": [
      "[[4, 2, 1, 3, 5], [4, 2, 3, 1, 5], [4, 5, 2, 1, 3], [4, 5, 2, 3, 1]]\n"
     ]
    }
   ],
   "source": [
    "# 4.9: BST Sequences get all possible sequences to create a given BST\n",
    "class node:\n",
    "    def __init__(self, dataval):\n",
    "        self.val = dataval\n",
    "        self.left = None\n",
    "        self.right = None\n",
    "\n",
    "def bst_sequence_helper(node):\n",
    "    if node == None:\n",
    "        return [[]]\n",
    "    else:\n",
    "        base_ret = [node.val]\n",
    "        \n",
    "        if (node.left == None and node.right == None):\n",
    "\n",
    "            return [base_ret]\n",
    "            \n",
    "        elif (node.right == None):\n",
    "            \n",
    "            return [base_ret + left for left in bst_sequence_helper(node.left)]\n",
    "            \n",
    "        elif (node.left == None):\n",
    "            \n",
    "            return [base_ret + right for right in bst_sequence_helper(node.right)]\n",
    "        \n",
    "        else:\n",
    "            \n",
    "            left_side = bst_sequence_helper(node.left)\n",
    "            right_side = bst_sequence_helper(node.right)\n",
    "            \n",
    "            left_first = [base_ret + left + right for left in left_side for right in right_side]\n",
    "            right_first = [base_ret + right + left for left in left_side for right in right_side]\n",
    "            \n",
    "            return left_first + right_first\n",
    "    \n",
    "    \n",
    "my_root = node(4)\n",
    "my_root.left = node(2)\n",
    "my_root.left.left = node(1)\n",
    "my_root.left.right = node(3)\n",
    "\n",
    "my_root.right = node(5)\n",
    "        \n",
    "print(bst_sequence_helper(my_root))\n",
    "\n"
   ]
  },
  {
   "cell_type": "code",
   "execution_count": 6,
   "metadata": {
    "ExecuteTime": {
     "end_time": "2019-09-10T04:03:35.348644Z",
     "start_time": "2019-09-10T04:03:35.338562Z"
    }
   },
   "outputs": [
    {
     "name": "stdout",
     "output_type": "stream",
     "text": [
      "[4, 2, 1, 3, 6]\n",
      "[2, 1, 3]\n",
      "True\n"
     ]
    }
   ],
   "source": [
    "# 4.10: Check Subtree\n",
    "\n",
    "# Given t1 and t2, with t1 >> t2, create an algorithm to determine if T2 is a subtree of T1\n",
    "\n",
    "class node:\n",
    "    def __init__(self, dataval):\n",
    "        self.val = dataval\n",
    "        self.left = None\n",
    "        self.right = None\n",
    "\n",
    "def preorder(root):\n",
    "    if root == None:\n",
    "        return []\n",
    "    else:\n",
    "        flatten_tree = []\n",
    "        \n",
    "        flatten_tree.append(root.val)\n",
    "        \n",
    "        for left_value in preorder(root.left):\n",
    "            flatten_tree.append(left_value)\n",
    "            \n",
    "        for right_value in preorder(root.right):\n",
    "            flatten_tree.append(right_value)\n",
    "            \n",
    "        return flatten_tree\n",
    "    \n",
    "\n",
    "def check_subtree(root1, root2):\n",
    "    \n",
    "    t2_preorder = preorder(root2)\n",
    "    t1_preorder = preorder(root1)\n",
    "    \n",
    "    for i in range(len(t1_preorder) - len(t2_preorder)):\n",
    "        \n",
    "        isSubtree = True\n",
    "        \n",
    "        for j in range(len(t2_preorder)):\n",
    "            if (t1_preorder[j + i] != t2_preorder[j]):\n",
    "                isSubtree = False\n",
    "                break\n",
    "        \n",
    "        if (isSubtree):\n",
    "            return True\n",
    "    \n",
    "    return False\n",
    "\n",
    "\n",
    "my_root = node(4)\n",
    "my_root.left = node(2)\n",
    "my_root.left.left = node(1)\n",
    "my_root.left.right = node(3)\n",
    "my_root.right = node(6)\n",
    "\n",
    "my_root2 = node(2)\n",
    "my_root2.left = node(1)\n",
    "my_root2.right = node(3)\n",
    "\n",
    "print(preorder(my_root))\n",
    "print(preorder(my_root2))\n",
    "print(check_subtree(my_root, my_root2))\n"
   ]
  },
  {
   "cell_type": "code",
   "execution_count": 21,
   "metadata": {
    "ExecuteTime": {
     "end_time": "2019-09-10T04:34:01.910671Z",
     "start_time": "2019-09-10T04:34:01.894019Z"
    }
   },
   "outputs": [
    {
     "name": "stdout",
     "output_type": "stream",
     "text": [
      "5\n",
      "1\n",
      "5\n",
      "3\n",
      "5\n",
      "3\n",
      "1\n",
      "5\n",
      "3\n",
      "3\n",
      "1\n",
      "1\n",
      "1\n",
      "5\n"
     ]
    }
   ],
   "source": [
    "# 4.11 Random Node\n",
    "\n",
    "# implement a binary tree class from scratch, which in addition to insert, find, and delete \n",
    "# has a method getRandomNode\n",
    "\n",
    "import random\n",
    "\n",
    "class node:\n",
    "    def __init__(self, dataval):\n",
    "        self.val = dataval\n",
    "        self.left = None\n",
    "        self.right = None\n",
    "\n",
    "class binarySearchTree:\n",
    "    \n",
    "    def __init__(self):\n",
    "        self.head = None\n",
    "        \n",
    "    def get_head(self):\n",
    "        return self.head\n",
    "        \n",
    "    def insert(self, dataval):\n",
    "        \n",
    "        def insert_helper(root, dataval):\n",
    "            if (root == None):\n",
    "                return node(dataval)\n",
    "\n",
    "            else:\n",
    "                if (dataval < root.val):\n",
    "                    root.left = insert_helper(root.left, dataval)\n",
    "                elif (dataval > root.val):\n",
    "                    root.right = insert_helper(root.right, dataval)\n",
    "\n",
    "                return root\n",
    "\n",
    "        self.head = insert_helper(self.head, dataval)\n",
    "        \n",
    "    def find(self, dataval):\n",
    "        \n",
    "        def find_helper(root, dataval):\n",
    "            \n",
    "            if (root == None):\n",
    "                return None\n",
    "            elif (root.val == dataval):\n",
    "                return root\n",
    "            \n",
    "            else:\n",
    "                if (dataval < root.val):\n",
    "                    return find_helper(root.left, dataval)\n",
    "                \n",
    "                elif (dataval > root.val):\n",
    "                    return find_helper(root.right, dataval)\n",
    "        \n",
    "        return find_helper(self.head, dataval)\n",
    "\n",
    "    def randomNode(self):\n",
    "        \n",
    "        tree_inorder = self.inorder()\n",
    "        \n",
    "        choice = random.randint(0, len(tree_inorder) -1)\n",
    "\n",
    "        return tree_inorder[choice]\n",
    "        \n",
    "    def inorder(self):\n",
    "        \n",
    "        def inorder_helper(root):\n",
    "            if root == None:\n",
    "                return []\n",
    "            else:\n",
    "                flatten_tree = []\n",
    "\n",
    "                for left_value in inorder_helper(root.left):\n",
    "                    flatten_tree.append(left_value)\n",
    "                    \n",
    "                flatten_tree.append(root)\n",
    "\n",
    "                for right_value in inorder_helper(root.right):\n",
    "                    flatten_tree.append(right_value)\n",
    "\n",
    "                return flatten_tree\n",
    "            \n",
    "        return inorder_helper(self.head)\n",
    "        \n",
    "        \n",
    "    \n",
    "my_bst = binarySearchTree()\n",
    "my_bst.insert(3)\n",
    "my_bst.insert(5)\n",
    "my_bst.insert(1)\n",
    "\n",
    "print(my_bst.randomNode().val)\n",
    "print(my_bst.randomNode().val)\n",
    "print(my_bst.randomNode().val)\n",
    "print(my_bst.randomNode().val)\n",
    "print(my_bst.randomNode().val)\n",
    "print(my_bst.randomNode().val)\n",
    "print(my_bst.randomNode().val)\n",
    "print(my_bst.randomNode().val)\n",
    "print(my_bst.randomNode().val)\n",
    "print(my_bst.randomNode().val)\n",
    "print(my_bst.randomNode().val)\n",
    "print(my_bst.randomNode().val)\n",
    "print(my_bst.randomNode().val)\n",
    "print(my_bst.randomNode().val)\n",
    "        \n",
    "    \n",
    "    \n"
   ]
  },
  {
   "cell_type": "code",
   "execution_count": 30,
   "metadata": {
    "ExecuteTime": {
     "end_time": "2019-09-10T04:50:31.283123Z",
     "start_time": "2019-09-10T04:50:31.276531Z"
    }
   },
   "outputs": [
    {
     "name": "stdout",
     "output_type": "stream",
     "text": [
      "1\n"
     ]
    }
   ],
   "source": [
    "# 4.12 Paths with Sum\n",
    "\n",
    "# Given a bast in which each node contains an integer value (which may be positive or negative)\n",
    "# Design an algorithm to count the number of paths that sum to a given value\n",
    "\n",
    "class node:\n",
    "    def __init__(self, dataval):\n",
    "        self.val = dataval\n",
    "        self.left = None\n",
    "        self.right = None\n",
    "        \n",
    "        \n",
    "def paths_with_sum(root, value):\n",
    "    if (root == None):\n",
    "        return 0\n",
    "    \n",
    "    elif (value == root.val):\n",
    "        return 1\n",
    "\n",
    "    else:\n",
    "        # from root\n",
    "        left_with_root = paths_with_sum(root.left, value - root.val)\n",
    "        right_with_root = paths_with_sum(root.right, value - root.val)\n",
    "        # from left\n",
    "        left_no_root = paths_with_sum(root.left, value)\n",
    "        # from right\n",
    "        right_no_root = paths_with_sum(root.right, value)\n",
    "        \n",
    "        return left_with_root + right_with_root + left_no_root + right_no_root\n",
    "    \n",
    "my_root = node(2)\n",
    "my_root.left = node(1)\n",
    "my_root.right = node(3)\n",
    "\n",
    "print(paths_with_sum(my_root, 1))\n",
    "\n",
    "# should be some optimizations I can make with BST\n"
   ]
  }
 ],
 "metadata": {
  "kernelspec": {
   "display_name": "Python 3",
   "language": "python",
   "name": "python3"
  },
  "language_info": {
   "codemirror_mode": {
    "name": "ipython",
    "version": 3
   },
   "file_extension": ".py",
   "mimetype": "text/x-python",
   "name": "python",
   "nbconvert_exporter": "python",
   "pygments_lexer": "ipython3",
   "version": "3.6.8"
  },
  "latex_envs": {
   "LaTeX_envs_menu_present": true,
   "autoclose": false,
   "autocomplete": true,
   "bibliofile": "biblio.bib",
   "cite_by": "apalike",
   "current_citInitial": 1,
   "eqLabelWithNumbers": true,
   "eqNumInitial": 1,
   "hotkeys": {
    "equation": "Ctrl-E",
    "itemize": "Ctrl-I"
   },
   "labels_anchors": false,
   "latex_user_defs": false,
   "report_style_numbering": false,
   "user_envs_cfg": false
  },
  "varInspector": {
   "cols": {
    "lenName": 16,
    "lenType": 16,
    "lenVar": 40
   },
   "kernels_config": {
    "python": {
     "delete_cmd_postfix": "",
     "delete_cmd_prefix": "del ",
     "library": "var_list.py",
     "varRefreshCmd": "print(var_dic_list())"
    },
    "r": {
     "delete_cmd_postfix": ") ",
     "delete_cmd_prefix": "rm(",
     "library": "var_list.r",
     "varRefreshCmd": "cat(var_dic_list()) "
    }
   },
   "types_to_exclude": [
    "module",
    "function",
    "builtin_function_or_method",
    "instance",
    "_Feature"
   ],
   "window_display": false
  }
 },
 "nbformat": 4,
 "nbformat_minor": 2
}
