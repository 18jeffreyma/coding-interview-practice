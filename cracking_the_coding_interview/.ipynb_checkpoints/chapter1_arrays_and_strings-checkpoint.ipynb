{
 "cells": [
  {
   "cell_type": "code",
   "execution_count": 7,
   "metadata": {
    "ExecuteTime": {
     "end_time": "2019-08-17T00:24:32.223921Z",
     "start_time": "2019-08-17T00:24:32.217725Z"
    }
   },
   "outputs": [
    {
     "name": "stdout",
     "output_type": "stream",
     "text": [
      "Mr John Smith    \n",
      "Mr%20John%20Smith\n"
     ]
    }
   ],
   "source": [
    "# 1.3: URL\n",
    "def urlify(input_string, true_len):\n",
    "    \n",
    "    toIndex = len(input_string) - 1\n",
    "    fromIndex = true_len - 1\n",
    "    \n",
    "    while (toIndex >=0):\n",
    "        \n",
    "        if (input_string[fromIndex] != ' '):\n",
    "            \n",
    "            input_string[toIndex] = input_string[fromIndex]\n",
    "            \n",
    "            toIndex = toIndex - 1\n",
    "            \n",
    "        else:\n",
    "            \n",
    "            input_string[toIndex-2] = '%'\n",
    "            input_string[toIndex-1] = '2'\n",
    "            input_string[toIndex] = '0'\n",
    "            \n",
    "            toIndex = toIndex - 3\n",
    "        \n",
    "        fromIndex = fromIndex - 1\n",
    "    \n",
    "    return input_string\n",
    "            \n",
    "\n",
    "input_str = \"Mr John Smith    \"\n",
    "input_str = list(input_str)\n",
    "input_true_len = 13\n",
    "\n",
    "\n",
    "print(''.join(input_str))\n",
    "print(''.join(urlify(input_str, input_true_len)))\n",
    "    "
   ]
  },
  {
   "cell_type": "code",
   "execution_count": 10,
   "metadata": {
    "ExecuteTime": {
     "end_time": "2019-08-17T00:34:22.451842Z",
     "start_time": "2019-08-17T00:34:22.446559Z"
    }
   },
   "outputs": [
    {
     "name": "stdout",
     "output_type": "stream",
     "text": [
      "Tact Coa\n",
      "True\n"
     ]
    }
   ],
   "source": [
    "# 1.4 Palindrom Permutation\n",
    "\n",
    "def palindrome_permutation_check(input_str):\n",
    "    \n",
    "    bit_map = [0] * 26\n",
    "    \n",
    "    for character in input_str:\n",
    "        \n",
    "        if character != ' ':\n",
    "        \n",
    "            character = character.lower()\n",
    "\n",
    "            index = ord(character) - ord('a')\n",
    "\n",
    "            bit_map[index] = (bit_map[index] + 1) % 2\n",
    "        \n",
    "    if sum(bit_map) > 1:\n",
    "        return False\n",
    "    \n",
    "    return True\n",
    "\n",
    "print('Tact Coa')\n",
    "print(palindrome_permutation_check('Tact Coa'))"
   ]
  },
  {
   "cell_type": "code",
   "execution_count": 21,
   "metadata": {
    "ExecuteTime": {
     "end_time": "2019-08-17T00:55:17.481584Z",
     "start_time": "2019-08-17T00:55:17.470902Z"
    }
   },
   "outputs": [
    {
     "name": "stdout",
     "output_type": "stream",
     "text": [
      "True\n",
      "True\n",
      "True\n",
      "True\n",
      "True\n",
      "False\n"
     ]
    }
   ],
   "source": [
    "# 1.5: One Away\n",
    "\n",
    "def one_away(str1, str2):\n",
    "    \n",
    "    edits = 0\n",
    "    \n",
    "    if (len(str1) == len(str2)):\n",
    "        \n",
    "        for i in range(len(str1)):\n",
    "            if (str1[i] != str2[i]):\n",
    "                edits = edits + 1\n",
    "        \n",
    "        return edits <= 1\n",
    "                \n",
    "    elif (len(str1) - len(str2) == 1):\n",
    "        \n",
    "        str1_counter = 0\n",
    "        str2_counter = 0\n",
    "        \n",
    "        while (str2_counter < len(str2)):\n",
    "            \n",
    "            if (str1[str1_counter] != str2[str2_counter]):\n",
    "                edits = edits + 1\n",
    "                \n",
    "                str1_counter = str1_counter + 1\n",
    "            \n",
    "            else:\n",
    "                str1_counter = str1_counter + 1\n",
    "                str2_counter = str2_counter + 1\n",
    "    \n",
    "        \n",
    "        return edits <= 1\n",
    "        \n",
    "        \n",
    "    elif (len(str1) - len(str2) == -1):\n",
    "        \n",
    "        str1_counter = 0\n",
    "        str2_counter = 0\n",
    "        \n",
    "        while (str1_counter < len(str1)):\n",
    "            \n",
    "            if (str1[str1_counter] != str2[str2_counter]):\n",
    "                edits = edits + 1\n",
    "                \n",
    "                str2_counter = str2_counter + 1\n",
    "            \n",
    "            else:\n",
    "                str1_counter = str1_counter + 1\n",
    "                str2_counter = str2_counter + 1\n",
    "    \n",
    "        \n",
    "        return edits <= 1\n",
    "        \n",
    "    \n",
    "    else:\n",
    "        return False\n",
    "        \n",
    "        \n",
    "print(one_away(\"pale\", \"ple\"))\n",
    "print(one_away(\"ple\", \"pale\"))\n",
    "\n",
    "print(one_away(\"pales\", \"pale\"))\n",
    "print(one_away(\"pale\", \"pales\"))\n",
    "\n",
    "print(one_away(\"pale\", \"bale\"))\n",
    "print(one_away(\"pale\", \"bake\"))"
   ]
  },
  {
   "cell_type": "code",
   "execution_count": 27,
   "metadata": {
    "ExecuteTime": {
     "end_time": "2019-08-17T01:07:41.890301Z",
     "start_time": "2019-08-17T01:07:41.884523Z"
    }
   },
   "outputs": [
    {
     "name": "stdout",
     "output_type": "stream",
     "text": [
      "a2b1c5a3\n"
     ]
    }
   ],
   "source": [
    "# 1.6: String Compression\n",
    "\n",
    "def string_compression(input_str):\n",
    "\n",
    "    assert len(input_str) > 0\n",
    "    \n",
    "    current_char = input_str[0]\n",
    "    count = 0\n",
    "    \n",
    "    compressed_list = [current_char]\n",
    "    \n",
    "    for i in range(len(input_str)):\n",
    "        if (input_str[i] == current_char):\n",
    "            count = count + 1\n",
    "        \n",
    "        else:\n",
    "            compressed_list.append(str(count))\n",
    "            \n",
    "            current_char = input_str[i]\n",
    "            compressed_list.append(current_char)\n",
    "            count = 1\n",
    "            \n",
    "    compressed_list.append(str(count))\n",
    "            \n",
    "    return ''.join(compressed_list)\n",
    "        \n",
    "        \n",
    "print(string_compression(\"aabcccccaaa\"))"
   ]
  },
  {
   "cell_type": "code",
   "execution_count": 28,
   "metadata": {
    "ExecuteTime": {
     "end_time": "2019-08-17T04:37:45.885480Z",
     "start_time": "2019-08-17T04:37:45.883355Z"
    }
   },
   "outputs": [],
   "source": [
    "# 1.7: Rotation Matrix0"
   ]
  },
  {
   "cell_type": "code",
   "execution_count": null,
   "metadata": {},
   "outputs": [],
   "source": []
  },
  {
   "cell_type": "code",
   "execution_count": null,
   "metadata": {},
   "outputs": [],
   "source": []
  }
 ],
 "metadata": {
  "kernelspec": {
   "display_name": "Python 3",
   "language": "python",
   "name": "python3"
  },
  "language_info": {
   "codemirror_mode": {
    "name": "ipython",
    "version": 3
   },
   "file_extension": ".py",
   "mimetype": "text/x-python",
   "name": "python",
   "nbconvert_exporter": "python",
   "pygments_lexer": "ipython3",
   "version": "3.6.8"
  },
  "latex_envs": {
   "LaTeX_envs_menu_present": true,
   "autoclose": false,
   "autocomplete": true,
   "bibliofile": "biblio.bib",
   "cite_by": "apalike",
   "current_citInitial": 1,
   "eqLabelWithNumbers": true,
   "eqNumInitial": 1,
   "hotkeys": {
    "equation": "Ctrl-E",
    "itemize": "Ctrl-I"
   },
   "labels_anchors": false,
   "latex_user_defs": false,
   "report_style_numbering": false,
   "user_envs_cfg": false
  },
  "varInspector": {
   "cols": {
    "lenName": 16,
    "lenType": 16,
    "lenVar": 40
   },
   "kernels_config": {
    "python": {
     "delete_cmd_postfix": "",
     "delete_cmd_prefix": "del ",
     "library": "var_list.py",
     "varRefreshCmd": "print(var_dic_list())"
    },
    "r": {
     "delete_cmd_postfix": ") ",
     "delete_cmd_prefix": "rm(",
     "library": "var_list.r",
     "varRefreshCmd": "cat(var_dic_list()) "
    }
   },
   "types_to_exclude": [
    "module",
    "function",
    "builtin_function_or_method",
    "instance",
    "_Feature"
   ],
   "window_display": false
  }
 },
 "nbformat": 4,
 "nbformat_minor": 2
}
