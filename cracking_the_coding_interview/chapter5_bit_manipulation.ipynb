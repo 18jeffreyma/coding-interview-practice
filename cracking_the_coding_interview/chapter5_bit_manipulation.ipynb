{
 "cells": [
  {
   "cell_type": "markdown",
   "metadata": {},
   "source": [
    "# Notes\n",
    "\n",
    "## Bit Operations\n",
    "\n",
    "\\+ = bitwise addition (base 2 addition)\n",
    "\n",
    "\\- = bitwise subtraction (base 2 subtraction)\n",
    "\n",
    "\\* = multiplication \n",
    "    (tip: convert to base 10 then convert back or \n",
    "    split multiplication into powers of 2 and do right shifts)\n",
    "\n",
    "\\>> = bitwise left shift\n",
    "\n",
    "\\<< = bitwise right shift \n",
    "\n",
    "\\& = bitwise AND\n",
    "\n",
    "\\| = bitwise OR\n",
    "\n",
    "\\~ = bitwise NOT (negation)\n",
    "\n",
    "\\^ = bitwise XOR (Exclusive-Or)\n",
    "\n",
    "## Two's Complement and Negative Numbers\n",
    "\n",
    "### Method 1 to find the negative of a number\n",
    "1. Find the Two's complement in binary (2^n - our number)\n",
    "2. Add the sign bit, giving you the negative representation of that number\n",
    "\n",
    "### Example Method 1\n",
    "4 bit integer 3 (0 011) (3 bits for magnitude)\n",
    "\n",
    "the two's complement is 2^3 - 3 = 5 (0 101) ==> -3 is (1 101)\n",
    "\n",
    "### Method 2\n",
    "1. Given a number in binary, invert the bits in the positive representation\n",
    "2. Add 1\n",
    "3. Add sign bit\n",
    "\n",
    "### Example Method 2\n",
    "4 bit integer 3 (0 011) (top bit is for sign)\n",
    "\n",
    "inverting, we get (1 100)\n",
    "\n",
    "add 1, we get (1 101) = -3\n",
    "\n",
    "## Arithmetic vs. Logical Right Shift\n",
    "\n",
    "### Logical Right Shift\n",
    "\n",
    "Here, we shift the bits right, and put a 0 in the most significant bit (indicated with a >>>)\n",
    "\n",
    "1 0110101 ==> 0 1011010\n",
    "\n",
    "### Arithmetic Right Shift\n",
    "Here, we shift all bits right, and put the previous number's sign bit in the most significant bit  (indicated by >>)\n",
    "1 0110101 ==> 1 1011010\n",
    "\n",
    "### Signed Left Shift\n",
    "This is represented by <<\n"
   ]
  },
  {
   "cell_type": "markdown",
   "metadata": {},
   "source": [
    "## Basic Bit Operations\n",
    "\n",
    "### Get i'th Bit\n",
    "\n",
    "KEY: Use bitwise AND to get information\n",
    "\n",
    "Pseudocode:\n",
    "\n",
    "1. shift 1 to the left by i bits\n",
    "2. bitwise AND to mask out all other bits\n",
    "3. check if != 0, return 0 if false, 1 if true\n",
    "\n",
    "### Set i'th Bit\n",
    "\n",
    "KEY: Use bitwise OR to set bit\n",
    "\n",
    "1. shift a 1 to the left by i bits\n",
    "2. bitwise OR to smash number with this above shift\n",
    "\n",
    "\n",
    "### Clear i'th Bit \n",
    "\n",
    "1. shift a 1 to the to the left by i bits\n",
    "2. invert mask using the NOT (~)\n",
    "3. return bitwise AND of inverted mask with number\n",
    "\n",
    "### Clear Bits Most Significant Bit to i'th Bit\n",
    "\n",
    "1. shift a 1 to the to the left by i bits\n",
    "2. subtract 1 from this above value, giving a mask of bits 0 to i - 1\n",
    "3. bitwise AND to clear out upper bits\n",
    "\n",
    "### Clear Bits Most i'th Bit to 0th bit\n",
    "\n",
    "1. take the bit representation of -1 (all 1s)\n",
    "2. logical right shift (>>>) by i bits\n",
    "3. invert this mask\n",
    "4. bitwise AND to clear out lower bits\n",
    "\n",
    "### Update Bit\n",
    "1. left shift 1 by i bits, invert to get mask and bitwise AND to clear out bit at i\n",
    "2. left shift value to set the bit by i\n",
    "3. bitwise OR to combine the two\n",
    "\n"
   ]
  },
  {
   "cell_type": "markdown",
   "metadata": {},
   "source": [
    "# Exercises"
   ]
  },
  {
   "cell_type": "code",
   "execution_count": null,
   "metadata": {},
   "outputs": [],
   "source": [
    "# 5.1 \n",
    "\n",
    "# given two 32-bit numbers, N and M and two bit positions, i and j.\n",
    "# write a method to insert M into N such that M starts at big j and ends at bit i\n",
    "\n",
    "# pesudocode:\n",
    "# 1) clear bits j through i in N\n",
    "# 2) shift M to the left by j - len(M) + 1\n",
    "# 3) bitwise OR"
   ]
  }
 ],
 "metadata": {
  "kernelspec": {
   "display_name": "Python 3",
   "language": "python",
   "name": "python3"
  },
  "language_info": {
   "codemirror_mode": {
    "name": "ipython",
    "version": 3
   },
   "file_extension": ".py",
   "mimetype": "text/x-python",
   "name": "python",
   "nbconvert_exporter": "python",
   "pygments_lexer": "ipython3",
   "version": "3.6.8"
  },
  "latex_envs": {
   "LaTeX_envs_menu_present": true,
   "autoclose": false,
   "autocomplete": true,
   "bibliofile": "biblio.bib",
   "cite_by": "apalike",
   "current_citInitial": 1,
   "eqLabelWithNumbers": true,
   "eqNumInitial": 1,
   "hotkeys": {
    "equation": "Ctrl-E",
    "itemize": "Ctrl-I"
   },
   "labels_anchors": false,
   "latex_user_defs": false,
   "report_style_numbering": false,
   "user_envs_cfg": false
  },
  "varInspector": {
   "cols": {
    "lenName": 16,
    "lenType": 16,
    "lenVar": 40
   },
   "kernels_config": {
    "python": {
     "delete_cmd_postfix": "",
     "delete_cmd_prefix": "del ",
     "library": "var_list.py",
     "varRefreshCmd": "print(var_dic_list())"
    },
    "r": {
     "delete_cmd_postfix": ") ",
     "delete_cmd_prefix": "rm(",
     "library": "var_list.r",
     "varRefreshCmd": "cat(var_dic_list()) "
    }
   },
   "types_to_exclude": [
    "module",
    "function",
    "builtin_function_or_method",
    "instance",
    "_Feature"
   ],
   "window_display": false
  }
 },
 "nbformat": 4,
 "nbformat_minor": 2
}
