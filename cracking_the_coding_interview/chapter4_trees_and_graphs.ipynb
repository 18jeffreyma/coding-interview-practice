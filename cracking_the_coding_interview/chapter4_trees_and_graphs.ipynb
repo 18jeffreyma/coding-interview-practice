{
 "cells": [
  {
   "cell_type": "markdown",
   "metadata": {},
   "source": [
    "# Exercises"
   ]
  },
  {
   "cell_type": "code",
   "execution_count": 51,
   "metadata": {
    "ExecuteTime": {
     "end_time": "2019-09-01T05:11:28.179991Z",
     "start_time": "2019-09-01T05:11:28.177866Z"
    }
   },
   "outputs": [],
   "source": [
    "# 4.1: Route Between Nodes\n",
    "\n",
    "# Do a BFS but also keep track of visited nodes so we dont get stuck loops\n",
    "\n",
    "\n"
   ]
  },
  {
   "cell_type": "code",
   "execution_count": 101,
   "metadata": {
    "ExecuteTime": {
     "end_time": "2019-09-01T05:49:16.251909Z",
     "start_time": "2019-09-01T05:49:16.242627Z"
    }
   },
   "outputs": [
    {
     "name": "stdout",
     "output_type": "stream",
     "text": [
      "1 2 3 4 5 6 "
     ]
    }
   ],
   "source": [
    "# 4.2: Minimal Tree\n",
    "\n",
    "input_arr = [1,2,3,4,5,6]\n",
    "\n",
    "\n",
    "class node:\n",
    "    def __init__(self, dataval):\n",
    "        self.val = dataval\n",
    "        self.left = None\n",
    "        self.right = None\n",
    "        \n",
    "def inOrder(node):\n",
    "    if (node):\n",
    "        inOrder(node.left)\n",
    "        print(node.val, end=\" \")\n",
    "        inOrder(node.right)\n",
    "        \n",
    "def minimal_tree(input_array):\n",
    "    return minimal_tree_helper(input_array)\n",
    "    \n",
    "def minimal_tree_helper(input_array):\n",
    "    \n",
    "    if (len(input_array) == 0):\n",
    "        \n",
    "        return None\n",
    "    \n",
    "    elif (len(input_array) == 1):\n",
    "    \n",
    "        return node(input_array[0])\n",
    "    \n",
    "    else:\n",
    "        mid = int(len(input_array) / 2)\n",
    "        \n",
    "        \n",
    "        mid_node = node(input_array[mid])\n",
    "        \n",
    "        mid_node.left = minimal_tree_helper(input_array[:mid])\n",
    "        \n",
    "        mid_node.right = minimal_tree_helper(input_array[mid+1:])\n",
    "        \n",
    "        return mid_node\n",
    "        \n",
    "bst = minimal_tree(input_arr)\n",
    "\n",
    "inOrder(bst)\n",
    "    "
   ]
  },
  {
   "cell_type": "code",
   "execution_count": null,
   "metadata": {},
   "outputs": [],
   "source": [
    "# 4.3 list of depths, each level of graph is a depth\n",
    "\n",
    "# solution: BFS keeping trade of node and depth level (int)\n",
    "# Have list where index corresponds to depth and add to correct position\n",
    "# Queue should be a tuple of both the object and its depth, every time we \n",
    "# go down we increment depth and follow neighbors"
   ]
  },
  {
   "cell_type": "code",
   "execution_count": 110,
   "metadata": {
    "ExecuteTime": {
     "end_time": "2019-09-01T06:12:17.395908Z",
     "start_time": "2019-09-01T06:12:17.387222Z"
    }
   },
   "outputs": [
    {
     "name": "stdout",
     "output_type": "stream",
     "text": [
      "1 2 3 4 5 6 \n",
      "3\n",
      "-1\n"
     ]
    }
   ],
   "source": [
    "# 4.4 check if binary tree is balanced\n",
    "import math\n",
    "\n",
    "class node:\n",
    "    def __init__(self, dataval):\n",
    "        self.val = dataval\n",
    "        self.left = None\n",
    "        self.right = None\n",
    "        \n",
    "# idea 1, calculate depths of left and right trees\n",
    "\n",
    "\n",
    "def depth_helper(root):\n",
    "    if (root == None):\n",
    "        return 0\n",
    "    \n",
    "    left_height = depth_helper(root.left)\n",
    "    if left_height == -1:\n",
    "        return -1\n",
    "    \n",
    "    right_height = depth_helper(root.right)\n",
    "    if right_height == -1:\n",
    "        return -1\n",
    "    \n",
    "    if (math.fabs(left_height - right_height) > 1):\n",
    "        return -1\n",
    "    \n",
    "    else:\n",
    "        return 1 + max(depth_helper(root.left), depth_helper(root.right))\n",
    "\n",
    "unbalanced = node(0)\n",
    "unbalanced.left = node(1)\n",
    "unbalanced.left.left = node(2)\n",
    "print(depth_helper(unbalanced))\n",
    "\n",
    "\n"
   ]
  },
  {
   "cell_type": "code",
   "execution_count": 114,
   "metadata": {
    "ExecuteTime": {
     "end_time": "2019-09-01T06:28:56.513445Z",
     "start_time": "2019-09-01T06:28:56.505638Z"
    }
   },
   "outputs": [
    {
     "name": "stdout",
     "output_type": "stream",
     "text": [
      "False\n",
      "True\n"
     ]
    }
   ],
   "source": [
    "# 4.5: Validate BST:\n",
    "\n",
    "# recursively check that left < mid and mid < right\n",
    "\n",
    "class node:\n",
    "    def __init__(self, dataval):\n",
    "        self.val = dataval\n",
    "        self.left = None\n",
    "        self.right = None\n",
    "        \n",
    "# idea 1, recursive, check if subtrees are sorted\n",
    "\n",
    "def search_validator(root):\n",
    "    if (root == None):\n",
    "        return True\n",
    "    \n",
    "    left_validation = search_validator(root.left)\n",
    "    if (not left_validation):\n",
    "        return False\n",
    "    \n",
    "    right_validation = search_validator(root.right)\n",
    "    if (not right_validation):\n",
    "        return False\n",
    "    \n",
    "    else:\n",
    "        isSearch = True\n",
    "        \n",
    "        if (root.left != None):\n",
    "            isSearch = isSearch and (root.left.val < root.val)\n",
    "            \n",
    "        if (root.right != None):\n",
    "            isSearch = isSearch and (root.val < root.right.val)\n",
    "            \n",
    "        return isSearch\n",
    "\n",
    "# idea 2, inorder traversal, then check array if its sorted\n",
    "    \n",
    "# simple implementation with accumulator parameter? not included\n",
    "\n",
    "    \n",
    "unbalanced = node(0)\n",
    "unbalanced.left = node(1)\n",
    "unbalanced.left.left = node(2)\n",
    "print(search_validator(unbalanced))\n",
    "\n",
    "bst = minimal_tree(input_arr)\n",
    "print(search_validator(bst))\n",
    "\n",
    "# idea 2, inorder traversal"
   ]
  },
  {
   "cell_type": "code",
   "execution_count": 115,
   "metadata": {
    "ExecuteTime": {
     "end_time": "2019-09-01T06:51:32.811074Z",
     "start_time": "2019-09-01T06:51:32.808834Z"
    }
   },
   "outputs": [],
   "source": [
    "# 4.6: Successor\n",
    "\n",
    "# find algorithm to find the \"next\" node (in-order successor), assume each node has a link to its parent\n",
    "\n",
    "# 1) check if node has a node.right\n",
    "#     a) if so, go to the left most child of that node.right and return that node\n",
    "# 2) if no right child, check if parent is greater than or smaller than\n",
    "#     b) if parent is greater than, the current node is a left child, so return that parent node\n",
    "# 3) otherwise, this is the largest node"
   ]
  },
  {
   "cell_type": "code",
   "execution_count": 17,
   "metadata": {
    "ExecuteTime": {
     "end_time": "2019-09-01T07:38:22.723652Z",
     "start_time": "2019-09-01T07:38:22.715483Z"
    }
   },
   "outputs": [
    {
     "name": "stdout",
     "output_type": "stream",
     "text": [
      "{'a': False, 'b': False, 'c': False, 'd': False, 'e': False, 'f': False}\n",
      "{'a': True, 'b': False, 'c': False, 'd': False, 'e': False, 'f': True}\n",
      "{'a': True, 'b': True, 'c': False, 'd': False, 'e': False, 'f': True}\n",
      "{'a': True, 'b': True, 'c': True, 'd': True, 'e': False, 'f': True}\n",
      "{'a': True, 'b': True, 'c': True, 'd': True, 'e': False, 'f': True}\n",
      "{'a': True, 'b': True, 'c': True, 'd': True, 'e': True, 'f': True}\n",
      "['f', 'a', 'b', 'd', 'c', 'e']\n"
     ]
    }
   ],
   "source": [
    "# 4.7: Build order (dependencies)\n",
    "\n",
    "projects = [\"a\", 'b', 'c', 'd', 'e', 'f']\n",
    "dependencies = [['d', 'a'], ['b', 'f'], ['d', 'b'], ['a', 'f'], ['c', 'd']]\n",
    "\n",
    "# topological sort\n",
    "\n",
    "# in layman's terms, we explore each vertex (or project in our list)\n",
    "# 1) when we explore a node, we first mark it as visited\n",
    "# 2) we then do a DFS, completely exploring the nodes children, only adding the node to the stack once it's\n",
    "#    children have been completely explored (logic behind this is dependencies should be explored and added\n",
    "#    to the list before their \"parents\")\n",
    "# \n",
    "# marking the values as visited, allows us to add different paths of dependencies at a time and ensures\n",
    "# that any dependencies subsequently added dont affect the dependencies already added\n",
    "\n",
    "\n",
    "def build_order(my_projects, my_dependencies):\n",
    "    \n",
    "    visited = dict.fromkeys(projects, False)\n",
    "    tracker = []\n",
    "    \n",
    "    for project in projects:\n",
    "        print(visited)\n",
    "        \n",
    "        if (visited[project] == False):\n",
    "            build_order_helper(project, my_dependencies, tracker, visited)\n",
    "                \n",
    "    return tracker\n",
    "            \n",
    "def build_order_helper(project, my_dependencies, tracker, visited):\n",
    "    visited[project] = True\n",
    "    \n",
    "    for neighbor in [dependency[1] for dependency in my_dependencies if dependency[0] == project]:\n",
    "        if (visited[neighbor] == False):\n",
    "            build_order_helper(neighbor, my_dependencies, tracker, visited)\n",
    "    \n",
    "    tracker.append(project)\n",
    "    \n",
    "    \n",
    "print(build_order(projects, dependencies))"
   ]
  },
  {
   "cell_type": "code",
   "execution_count": null,
   "metadata": {},
   "outputs": [],
   "source": [
    "# 4.8: First Common Ancestor\n",
    "\n",
    "# Note: Avoid storing additional nodes in a data structure"
   ]
  }
 ],
 "metadata": {
  "kernelspec": {
   "display_name": "Python 3",
   "language": "python",
   "name": "python3"
  },
  "language_info": {
   "codemirror_mode": {
    "name": "ipython",
    "version": 3
   },
   "file_extension": ".py",
   "mimetype": "text/x-python",
   "name": "python",
   "nbconvert_exporter": "python",
   "pygments_lexer": "ipython3",
   "version": "3.6.8"
  },
  "latex_envs": {
   "LaTeX_envs_menu_present": true,
   "autoclose": false,
   "autocomplete": true,
   "bibliofile": "biblio.bib",
   "cite_by": "apalike",
   "current_citInitial": 1,
   "eqLabelWithNumbers": true,
   "eqNumInitial": 1,
   "hotkeys": {
    "equation": "Ctrl-E",
    "itemize": "Ctrl-I"
   },
   "labels_anchors": false,
   "latex_user_defs": false,
   "report_style_numbering": false,
   "user_envs_cfg": false
  },
  "varInspector": {
   "cols": {
    "lenName": 16,
    "lenType": 16,
    "lenVar": 40
   },
   "kernels_config": {
    "python": {
     "delete_cmd_postfix": "",
     "delete_cmd_prefix": "del ",
     "library": "var_list.py",
     "varRefreshCmd": "print(var_dic_list())"
    },
    "r": {
     "delete_cmd_postfix": ") ",
     "delete_cmd_prefix": "rm(",
     "library": "var_list.r",
     "varRefreshCmd": "cat(var_dic_list()) "
    }
   },
   "types_to_exclude": [
    "module",
    "function",
    "builtin_function_or_method",
    "instance",
    "_Feature"
   ],
   "window_display": false
  }
 },
 "nbformat": 4,
 "nbformat_minor": 2
}
