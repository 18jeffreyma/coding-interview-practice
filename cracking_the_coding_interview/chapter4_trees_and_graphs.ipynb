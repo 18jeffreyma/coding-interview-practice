{
 "cells": [
  {
   "cell_type": "markdown",
   "metadata": {},
   "source": [
    "# Heap Implementation"
   ]
  },
  {
   "cell_type": "code",
   "execution_count": 50,
   "metadata": {
    "ExecuteTime": {
     "end_time": "2019-09-01T04:50:43.379128Z",
     "start_time": "2019-09-01T04:50:43.361505Z"
    }
   },
   "outputs": [
    {
     "name": "stdout",
     "output_type": "stream",
     "text": [
      "[0, 2, 1, 5, 3, 4, 10, 20]\n",
      "0\n",
      "1\n",
      "2\n",
      "3\n",
      "4\n",
      "5\n",
      "10\n",
      "20\n"
     ]
    }
   ],
   "source": [
    "class MinHeap:\n",
    "    \n",
    "    def __init__(self):\n",
    "        self.storage = []\n",
    "        self.size = 0\n",
    "\n",
    "    def insert(self, val):\n",
    "        # append value to end\n",
    "        self.storage.append(val)\n",
    "        \n",
    "        # increment size\n",
    "        self.size = self.size + 1\n",
    "        \n",
    "        # bubble up\n",
    "        self.bubbleUp()\n",
    "        \n",
    "        \n",
    "    def bubbleUp(self):\n",
    "        \n",
    "        currentIndex = self.size - 1\n",
    "        \n",
    "        while (currentIndex != 0 and self.storage[currentIndex] < self.storage[parent(currentIndex)]):\n",
    "            \n",
    "            temp = self.storage[parent(currentIndex)]\n",
    "            self.storage[parent(currentIndex)] = self.storage[currentIndex]\n",
    "            self.storage[currentIndex] = temp\n",
    "    \n",
    "            currentIndex = parent(currentIndex) \n",
    "        \n",
    "        \n",
    "    def pop(self):\n",
    "        assert self.size > 0\n",
    "        \n",
    "        # remove value at 0\n",
    "        temp = self.storage[0]\n",
    "        \n",
    "        # move value at end to 0 index\n",
    "        self.storage[0] = self.storage[self.size - 1]\n",
    "        \n",
    "        # decrement size\n",
    "        self.size = self.size - 1\n",
    "        \n",
    "        # bubble down\n",
    "        self.percolateDown()\n",
    "        \n",
    "        return temp\n",
    "    \n",
    "    def percolateDown(self):\n",
    "        \n",
    "        currentIndex = 0\n",
    "        \n",
    "        while (currentIndex < self.size):\n",
    "            \n",
    "            if (children(currentIndex)[1] < self.size):\n",
    "            \n",
    "                chosen = int(self.storage[children(currentIndex)[0]] > self.storage[children(currentIndex)[1]])\n",
    "            \n",
    "            elif(children(currentIndex)[0] < self.size):\n",
    "                chosen = 0\n",
    "            \n",
    "            else:\n",
    "                # no more children\n",
    "                break\n",
    "            \n",
    "               \n",
    "            if (children(currentIndex)[chosen] < self.size \n",
    "                and self.storage[currentIndex] > self.storage[children(currentIndex)[chosen]]):\n",
    "                \n",
    "                temp = self.storage[children(currentIndex)[chosen]]\n",
    "                self.storage[children(currentIndex)[chosen]] = self.storage[currentIndex]\n",
    "                self.storage[currentIndex] = temp\n",
    "\n",
    "                currentIndex = children(currentIndex)[chosen]\n",
    "            \n",
    "            else:\n",
    "                break\n",
    "        \n",
    "        \n",
    "\n",
    "def parent(val):\n",
    "    return int((val-1)/2)\n",
    "\n",
    "def children(val):\n",
    "    return [val * 2 + 1, val * 2 + 2]\n",
    "    \n",
    "    \n",
    "\n",
    "test = MinHeap()\n",
    "\n",
    "\n",
    "test.insert(5)\n",
    "test.insert(4)\n",
    "test.insert(3)\n",
    "test.insert(2)\n",
    "test.insert(1)\n",
    "test.insert(0)\n",
    "test.insert(10)\n",
    "test.insert(20)\n",
    "print(test.storage)\n",
    "\n",
    "for i in range(test.size):\n",
    "    print(test.pop())"
   ]
  },
  {
   "cell_type": "markdown",
   "metadata": {},
   "source": [
    "# Problems"
   ]
  },
  {
   "cell_type": "code",
   "execution_count": 51,
   "metadata": {
    "ExecuteTime": {
     "end_time": "2019-09-01T05:11:28.179991Z",
     "start_time": "2019-09-01T05:11:28.177866Z"
    }
   },
   "outputs": [],
   "source": [
    "# 4.1: Route Between Nodes\n",
    "\n",
    "# Do a BFS but also keep track of visited nodes so we dont get stuck loops\n",
    "\n",
    "\n"
   ]
  },
  {
   "cell_type": "code",
   "execution_count": 101,
   "metadata": {
    "ExecuteTime": {
     "end_time": "2019-09-01T05:49:16.251909Z",
     "start_time": "2019-09-01T05:49:16.242627Z"
    }
   },
   "outputs": [
    {
     "name": "stdout",
     "output_type": "stream",
     "text": [
      "1 2 3 4 5 6 "
     ]
    }
   ],
   "source": [
    "# 4.2: Minimal Tree\n",
    "\n",
    "input_arr = [1,2,3,4,5,6]\n",
    "\n",
    "\n",
    "class node:\n",
    "    def __init__(self, dataval):\n",
    "        self.val = dataval\n",
    "        self.left = None\n",
    "        self.right = None\n",
    "        \n",
    "def inOrder(node):\n",
    "    if (node):\n",
    "        inOrder(node.left)\n",
    "        print(node.val, end=\" \")\n",
    "        inOrder(node.right)\n",
    "        \n",
    "def minimal_tree(input_array):\n",
    "    return minimal_tree_helper(input_array)\n",
    "    \n",
    "def minimal_tree_helper(input_array):\n",
    "    \n",
    "    if (len(input_array) == 0):\n",
    "        \n",
    "        return None\n",
    "    \n",
    "    elif (len(input_array) == 1):\n",
    "    \n",
    "        return node(input_array[0])\n",
    "    \n",
    "    else:\n",
    "        mid = int(len(input_array) / 2)\n",
    "        \n",
    "        \n",
    "        mid_node = node(input_array[mid])\n",
    "        \n",
    "        mid_node.left = minimal_tree_helper(input_array[:mid])\n",
    "        \n",
    "        mid_node.right = minimal_tree_helper(input_array[mid+1:])\n",
    "        \n",
    "        return mid_node\n",
    "        \n",
    "bst = minimal_tree(input_arr)\n",
    "\n",
    "inOrder(bst)\n",
    "    "
   ]
  },
  {
   "cell_type": "code",
   "execution_count": null,
   "metadata": {},
   "outputs": [],
   "source": [
    "# 4.3 list of depths, each level of graph is a depth\n",
    "\n",
    "# solution: BFS keeping trade of node and depth level (int)\n",
    "# Have list where index corresponds to depth and add to correct position\n",
    "# Queue should be a tuple of both the object and its depth, every time we \n",
    "# go down we increment depth and follow neighbors"
   ]
  },
  {
   "cell_type": "code",
   "execution_count": 110,
   "metadata": {
    "ExecuteTime": {
     "end_time": "2019-09-01T06:12:17.395908Z",
     "start_time": "2019-09-01T06:12:17.387222Z"
    }
   },
   "outputs": [
    {
     "name": "stdout",
     "output_type": "stream",
     "text": [
      "1 2 3 4 5 6 \n",
      "3\n",
      "-1\n"
     ]
    }
   ],
   "source": [
    "# 4.4 check if binary tree is balanced\n",
    "import math\n",
    "\n",
    "class node:\n",
    "    def __init__(self, dataval):\n",
    "        self.val = dataval\n",
    "        self.left = None\n",
    "        self.right = None\n",
    "        \n",
    "# idea 1, calculate depths of left and right trees\n",
    "\n",
    "\n",
    "def depth_helper(root):\n",
    "    if (root == None):\n",
    "        return 0\n",
    "    \n",
    "    left_height = depth_helper(root.left)\n",
    "    if left_height == -1:\n",
    "        return -1\n",
    "    \n",
    "    right_height = depth_helper(root.right)\n",
    "    if right_height == -1:\n",
    "        return -1\n",
    "    \n",
    "    if (math.fabs(left_height - right_height) > 1):\n",
    "        return -1\n",
    "    \n",
    "    else:\n",
    "        return 1 + max(depth_helper(root.left), depth_helper(root.right))\n",
    "\n",
    "unbalanced = node(0)\n",
    "unbalanced.left = node(1)\n",
    "unbalanced.left.left = node(2)\n",
    "print(depth_helper(unbalanced))\n",
    "\n",
    "\n"
   ]
  },
  {
   "cell_type": "code",
   "execution_count": 114,
   "metadata": {
    "ExecuteTime": {
     "end_time": "2019-09-01T06:28:56.513445Z",
     "start_time": "2019-09-01T06:28:56.505638Z"
    }
   },
   "outputs": [
    {
     "name": "stdout",
     "output_type": "stream",
     "text": [
      "False\n",
      "True\n"
     ]
    }
   ],
   "source": [
    "# 4.5: Validate BST:\n",
    "\n",
    "# recursively check that left < mid and mid < right\n",
    "\n",
    "class node:\n",
    "    def __init__(self, dataval):\n",
    "        self.val = dataval\n",
    "        self.left = None\n",
    "        self.right = None\n",
    "        \n",
    "# idea 1, recursive, check if subtrees are sorted\n",
    "\n",
    "def search_validator(root):\n",
    "    if (root == None):\n",
    "        return True\n",
    "    \n",
    "    left_validation = search_validator(root.left)\n",
    "    if (not left_validation):\n",
    "        return False\n",
    "    \n",
    "    right_validation = search_validator(root.right)\n",
    "    if (not right_validation):\n",
    "        return False\n",
    "    \n",
    "    else:\n",
    "        isSearch = True\n",
    "        \n",
    "        if (root.left != None):\n",
    "            isSearch = isSearch and (root.left.val < root.val)\n",
    "            \n",
    "        if (root.right != None):\n",
    "            isSearch = isSearch and (root.val < root.right.val)\n",
    "            \n",
    "        return isSearch\n",
    "\n",
    "# idea 2, inorder traversal, then check array if its sorted\n",
    "    \n",
    "# simple implementation with accumulator parameter? not included\n",
    "\n",
    "    \n",
    "unbalanced = node(0)\n",
    "unbalanced.left = node(1)\n",
    "unbalanced.left.left = node(2)\n",
    "print(search_validator(unbalanced))\n",
    "\n",
    "bst = minimal_tree(input_arr)\n",
    "print(search_validator(bst))\n",
    "\n",
    "# idea 2, inorder traversal"
   ]
  },
  {
   "cell_type": "code",
   "execution_count": 115,
   "metadata": {
    "ExecuteTime": {
     "end_time": "2019-09-01T06:51:32.811074Z",
     "start_time": "2019-09-01T06:51:32.808834Z"
    }
   },
   "outputs": [],
   "source": [
    "# 4.6: Successor\n",
    "\n",
    "# find algorithm to find the \"next\" node (in-order successor), assume each node has a link to its parent\n",
    "\n",
    "# 1) check if node has a node.right\n",
    "#     a) if so, go to the left most child of that node.right and return that node\n",
    "# 2) if no right child, check if parent is greater than or smaller than\n",
    "#     b) if parent is greater than, the current node is a left child, so return that parent node\n",
    "# 3) otherwise, this is the largest node"
   ]
  },
  {
   "cell_type": "code",
   "execution_count": null,
   "metadata": {},
   "outputs": [],
   "source": []
  }
 ],
 "metadata": {
  "kernelspec": {
   "display_name": "Python 3",
   "language": "python",
   "name": "python3"
  },
  "language_info": {
   "codemirror_mode": {
    "name": "ipython",
    "version": 3
   },
   "file_extension": ".py",
   "mimetype": "text/x-python",
   "name": "python",
   "nbconvert_exporter": "python",
   "pygments_lexer": "ipython3",
   "version": "3.6.8"
  },
  "latex_envs": {
   "LaTeX_envs_menu_present": true,
   "autoclose": false,
   "autocomplete": true,
   "bibliofile": "biblio.bib",
   "cite_by": "apalike",
   "current_citInitial": 1,
   "eqLabelWithNumbers": true,
   "eqNumInitial": 1,
   "hotkeys": {
    "equation": "Ctrl-E",
    "itemize": "Ctrl-I"
   },
   "labels_anchors": false,
   "latex_user_defs": false,
   "report_style_numbering": false,
   "user_envs_cfg": false
  },
  "varInspector": {
   "cols": {
    "lenName": 16,
    "lenType": 16,
    "lenVar": 40
   },
   "kernels_config": {
    "python": {
     "delete_cmd_postfix": "",
     "delete_cmd_prefix": "del ",
     "library": "var_list.py",
     "varRefreshCmd": "print(var_dic_list())"
    },
    "r": {
     "delete_cmd_postfix": ") ",
     "delete_cmd_prefix": "rm(",
     "library": "var_list.r",
     "varRefreshCmd": "cat(var_dic_list()) "
    }
   },
   "types_to_exclude": [
    "module",
    "function",
    "builtin_function_or_method",
    "instance",
    "_Feature"
   ],
   "window_display": false
  }
 },
 "nbformat": 4,
 "nbformat_minor": 2
}
